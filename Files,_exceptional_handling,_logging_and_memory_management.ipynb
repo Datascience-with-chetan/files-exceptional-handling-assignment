{
  "nbformat": 4,
  "nbformat_minor": 0,
  "metadata": {
    "colab": {
      "provenance": []
    },
    "kernelspec": {
      "name": "python3",
      "display_name": "Python 3"
    },
    "language_info": {
      "name": "python"
    }
  },
  "cells": [
    {
      "cell_type": "markdown",
      "source": [
        "# Theroy Question\n",
        "\n"
      ],
      "metadata": {
        "id": "gOUff9FWW7ut"
      }
    },
    {
      "cell_type": "markdown",
      "source": [
        "1.What is the difference between interpreted and compiled languages\n",
        "- Compiled Languages\n",
        "  - In compiled languages, the source code is translated into machine code by a compiler before execution. This machine code is specific to the target hardware and can be executed directly by the computer's CPU without needing the original source code or compiler at runtime.\n",
        "  - Examples include C, C++, C#\n",
        "  - Compiled programs generally run faster and offer better performance since the translation to machine code happens ahead of time and only once.\n",
        "  - However, compiled code is typically less portable because it is tailored for a specific hardware and operating system. Any changes to the source code require recompilation\n",
        "- Interpreted Languages\n",
        "  - In interpreted languages, the source code is not pre-converted to machine code. Instead, an interpreter reads and executes the code line by line at runtime.\n",
        "  - Examples include Python, JavaScript, Perl, and BASIC.\n",
        "  - Interpreted programs are generally slower than compiled programs because each instruction must be translated every time it is executed.\n",
        "  - Interpreted code tends to be more portable since the same source code can be run on any machine with the appropriate interpreter, without needing recompilation.\n",
        "  - Interpreted languages are often chosen for rapid development and ease of debugging, as changes can be tested immediately without a separate compilation step"
      ],
      "metadata": {
        "id": "pMMsDK40XMF5"
      }
    },
    {
      "cell_type": "markdown",
      "source": [
        "2.What is exception handling in Python\n",
        "- Exception Handling in Python is a mechanism that allows you to manage errors that occur during the execution of a program, preventing the program from crashing and enabling you to respond to errors gracefully\n",
        "- Exception handling separates error-handling code from regular code, making programs more robust and readable.\n",
        "- It allows you to anticipate and manage errors, ensuring your program can recover or exit gracefully when unexpected situations arise"
      ],
      "metadata": {
        "id": "-UN0sKnpYKFU"
      }
    },
    {
      "cell_type": "markdown",
      "source": [
        "3.What is the purpose of the finally block in exception handling\n",
        "- The finally block in Python is designed to ensure that specific code is executed regardless of whether an exception occurs in the try block or not. Its primary purpose is to guarantee that cleanup actions—such as closing files, releasing resources, or performing other essential final steps—are always carried out, maintaining the integrity and stability of your program\n",
        "- The finally block acts as a safety net, ensuring that critical cleanup code is always executed, which helps prevent resource leaks and keeps your program robust and predictable"
      ],
      "metadata": {
        "id": "sNOT6JzqYsw2"
      }
    },
    {
      "cell_type": "markdown",
      "source": [
        "4.What is logging in Python\n",
        "- Logging in Python refers to the process of recording events, errors, informational messages, and debugging output from a program. Python provides a built-in logging module that enables developers to track the execution of their code and diagnose issues efficiently\n",
        "- Logging in Python is a flexible and powerful way to keep track of what your code is doing, making it easier to debug, maintain, and monitor applications in both development and production environments"
      ],
      "metadata": {
        "id": "B9WMyj86Y7pm"
      }
    },
    {
      "cell_type": "markdown",
      "source": [
        "5.What is the significance of the __del__ method in Python\n",
        "- The __del__ method in Python is a special method, also known as a destructor or finalizer, that is called when an object is about to be destroyed by Python's garbage collector. Its primary significance is to allow you to define cleanup actions that should occur before the object’s memory is reclaimed\n",
        "- The __del__ method provides a way to define actions that should take place just before an object is destroyed, mainly for resource management and cleanup. However, due to its unpredictable timing and potential pitfalls, it should be used with caution, and context managers are generally recommended for resource management in Python"
      ],
      "metadata": {
        "id": "71RUmvt5ZSyj"
      }
    },
    {
      "cell_type": "markdown",
      "source": [
        "6.What is the difference between import and from ... import in Python\n",
        "- import\n",
        "  - The import statement brings the entire module into your script. You must prefix functions, classes, or variables from that module with the module name when using them.\n",
        "  - This approach makes it clear where each function or class comes from, improving code readability and reducing the risk of name conflicts\n",
        "- from ... import\n",
        "  - The from ... import statement allows you to import specific members (functions, classes, or variables) directly into your script’s namespace. You can then use them without the module prefix.\n",
        "  - This can save typing and make code cleaner, especially if you use certain functions or classes frequently. However, it increases the risk of name clashes and can make it less obvious where a name comes from\n",
        "- import brings in the whole module and requires you to use the module name as a prefix, promoting clarity and reducing name conflicts. from ... import brings in specific members, allowing direct use but potentially increasing ambiguity and risk of name clashes"
      ],
      "metadata": {
        "id": "jCHoYUSCZuYa"
      }
    },
    {
      "cell_type": "markdown",
      "source": [
        "7.How can you handle multiple exceptions in Python\n",
        "Python provides several ways to handle multiple exceptions within a try-except block, allowing you to write robust and readable error-handling code.\n",
        "\n",
        "- Handling Multiple Exceptions with a Single Block\n",
        "If you want to handle different exceptions using the same block of code, group the exception types in a tuple within a single except clause:\n",
        "- Handling Different Exceptions with Separate Blocks If you need to handle each exception differently, use multiple except clauses:\n",
        "- Using Exception Hierarchies If exceptions share a common base class, you can catch all related exceptions by specifying the base class in the except clause. This is useful for handling broad categories of errors.\n",
        "- Conditional Handling Inside an Except Block You can also use if-elif-else statements inside an except block to further distinguish between exceptions if needed"
      ],
      "metadata": {
        "id": "5Du9P0QCawMC"
      }
    },
    {
      "cell_type": "markdown",
      "source": [
        "8.What is the purpose of the with statement when handling files in Python\n",
        "- The with statement in Python is primarily used for resource management and exception handling, especially when working with files. Its main purpose is to ensure that files are properly opened and, crucially, automatically closed after their suite finishes, even if an exception occurs during file operations.\n",
        "- Automatic Resource Cleanup: The file is closed automatically when the block inside the with statement is exited, regardless of whether the code block completes normally or an exception is raised. This prevents resource leaks and file corruption.\n",
        "- Simplifies Code: Using with eliminates the need for explicit try-finally blocks to close files, reducing boilerplate and making code more readable and maintainable.\n",
        "- Exception Safety: The with statement ensures that cleanup actions (like closing a file) are performed reliably, even if errors interrupt the normal flow of the program"
      ],
      "metadata": {
        "id": "651w-WFqb54T"
      }
    },
    {
      "cell_type": "markdown",
      "source": [
        "9.What is the difference between multithreading and multiprocessing\n",
        "- Multithreading\n",
        "  - Multithreading involves running multiple threads within a single process. A thread is the smallest unit of execution that can be scheduled by an operating system. In multithreading, all threads share the same memory space and resources of their parent process. This shared memory model makes it easy for threads to communicate with each other, as they can directly access common variables and data structures.\n",
        "  - Because threads share resources, multithreading has relatively low overhead compared to multiprocessing. Threads are lightweight and quicker to create and switch between. This makes multithreading particularly effective for I/O-bound tasks — operations that spend a lot of time waiting for input/output operations like reading files, network communication, or user input. In such cases, while one thread waits for I/O, other threads can continue executing, improving overall program responsiveness.\n",
        "  - However, Python’s Global Interpreter Lock (GIL) restricts the execution of multiple threads in a Python process to one thread at a time, which means that multithreading in Python does not achieve true parallelism for CPU-bound tasks. This limitation means multithreading is less effective for tasks that require heavy computation\n",
        "- Multiprocessing\n",
        "  - Multiprocessing, on the other hand, involves running multiple processes simultaneously. A process is an independent execution unit with its own memory space and system resources. Unlike threads, processes do not share memory by default, which means each process runs in complete isolation from others.\n",
        "  - Because each process has its own Python interpreter and memory, multiprocessing sidesteps the GIL limitation, enabling true parallel execution on multiple CPU cores. This makes multiprocessing ideal for CPU-bound tasks that require intensive computation, such as mathematical calculations, data processing, or image rendering.\n",
        "  - However, this isolation comes at a cost. Processes are heavier than threads, requiring more memory and time to create and manage. Communication between processes is more complex and usually involves inter-process communication mechanisms like pipes, queues, or shared memory"
      ],
      "metadata": {
        "id": "nrm1M2QxcV8d"
      }
    },
    {
      "cell_type": "markdown",
      "source": [
        "10.What are the advantages of using logging in a program\n",
        "- __Problem Diagnosis and Quick Debugging__:Logging enables developers to detect and diagnose both visible and hidden issues in applications. By recording detailed information about the application's execution, logs help pinpoint the exact location and cause of problems, making debugging faster and more efficient.\n",
        "- __Easy Maintenance and History Tracking__: Logs maintain a historical record of events, errors, and system behavior. This information is invaluable for analyzing trends, understanding application usage, and managing the application over time. It also aids in investigating incidents that occurred in the past.\n",
        "- __Real-Time Visibility and Monitoring__: Logging allows developers and administrators to monitor the application in real time. With centralized logging systems, teams can aggregate logs from multiple sources, providing a holistic view of system performance, user activity, and potential issues as they happen.\n",
        "- __Efficient Communication and Transparency__: Logs serve as a single source of truth for developers, administrators, and stakeholders. This transparency streamlines communication, as team members can refer to specific log entries to understand what happened, when, and why, without needing repeated explanations.\n",
        "- __Enhanced Troubleshooting and Root Cause Analysis__: When an issue arises, logs help localize the problem, making it easier to identify the root cause. This prevents wasted time on unnecessary checks and enables targeted troubleshooting.\n",
        "- __Security and Compliance__: Logging can help organizations monitor for suspicious activities, detect unauthorized access, and prove compliance with regulatory standards by maintaining detailed records of system events and user actions.\n",
        "- __Cost and Time Savings__: By simplifying debugging, maintenance, and information management, logging frameworks save both time and costs associated with application support and development"
      ],
      "metadata": {
        "id": "-tXv_DNIdQoo"
      }
    },
    {
      "cell_type": "markdown",
      "source": [
        "11.What is memory management in Python\n",
        "- Memory management in Python refers to the process by which Python allocates, tracks, and releases memory used by programs to ensure efficient execution and prevent memory leaks. Unlike languages such as C or C++, where developers must manually allocate and free memory, Python handles most memory management tasks automatically, making programming easier and safer for developers\n",
        "- Memory management in Python refers to the process by which Python allocates, tracks, and releases memory used by programs to ensure efficient execution and prevent memory leaks. Unlike languages such as C or C++, where developers must manually allocate and free memory, Python handles most memory management tasks automatically, making programming easier and safer for developers\n"
      ],
      "metadata": {
        "id": "uDaTvsMZfWav"
      }
    },
    {
      "cell_type": "markdown",
      "source": [
        "12.What are the basic steps involved in exception handling in Python\n",
        "- __Identify Code That May Cause Exceptions__:\n",
        "Place the code that might raise an exception inside a try block. This tells Python to monitor that section for errors.\n",
        "- __Catch Exceptions Using except__:\n",
        "If an exception occurs in the try block, Python immediately stops executing the remaining code in that block and looks for an appropriate except block to handle the exception. You can specify one or more except blocks to handle different types of exceptions, or use a general except block for any exception.\n",
        "- __Optional: Use the else Block__\n",
        "If no exception occurs in the try block, the code inside the else block (if present) is executed. This is useful for code that should run only if no errors occurred.\n",
        "\n",
        "- __Optional: Use the finally Block__:\n",
        "The finally block contains code that will always be executed, regardless of whether an exception was raised or not. This is typically used for cleanup actions, like closing files or releasing resources"
      ],
      "metadata": {
        "id": "ytDVOycyftSG"
      }
    },
    {
      "cell_type": "markdown",
      "source": [
        "13.Why memory management in important in python\n",
        "- Memory management is important in Python because it ensures that programs use memory efficiently, which directly impacts performance, stability, and scalability. Efficient memory management leads to faster program execution and reduced resource consumption, especially in environments with limited RAM or when handling large datasets. When memory is managed well, more RAM is available for caching and other processes, which can further speed up overall system performance\n",
        "- Maintaining efficient and fast program execution.\n",
        "- Preventing memory leaks and related performance issues.\n",
        "- Supporting the handling of large datasets and scalable applications.\n",
        "- Writing maintainable and optimized code"
      ],
      "metadata": {
        "id": "BkAQxWLugzCv"
      }
    },
    {
      "cell_type": "markdown",
      "source": [
        "14.What is role in try and except in exception handling\n",
        "- try block\n",
        "  - The try block is used to wrap the section of code where you anticipate that an error might occur. Python executes the code inside the try block and monitors it for exceptions. If no error occurs, the code runs normally, and the except block is skipped.\n",
        "\n",
        "- except block:\n",
        "   - If an error (exception) occurs during the execution of the code inside the try block, Python immediately stops executing the rest of the try block and jumps to the except block. The except block contains code to handle the error, such as displaying an error message, logging the issue, or taking corrective action. This prevents the program from crashing and allows it to continue running or fail gracefully\n",
        "- the try block lets you test code for errors, while the except block lets you handle those errors in a controlled way, ensuring your program remains robust and user-friendly"
      ],
      "metadata": {
        "id": "zKb-p5yzhYAi"
      }
    },
    {
      "cell_type": "markdown",
      "source": [
        "15.How does Python's garbage collection system work\n",
        "- Python’s garbage collection system is responsible for automatically managing memory by reclaiming space occupied by objects that are no longer needed by a program. This process helps prevent memory leaks and ensures efficient use of system resources\n",
        "- Python's garbage collection system automatically frees up memory by deleting objects that are no longer in use. It mainly works through two methods: reference counting, which removes objects when their reference count drops to zero, and generational garbage collection, which finds and cleans up groups of objects that reference each other in cycles. This process helps prevent memory leaks and keeps your program running efficiently without manual memory management\n",
        "- Python’s garbage collection system combines reference counting and generational garbage collection to automatically manage memory. Reference counting handles most cases, while the generational collector finds and cleans up cyclic references, ensuring memory is reclaimed even in complex object graphs. This system helps keep Python programs efficient and free from memory leaks"
      ],
      "metadata": {
        "id": "bWCU4hnZiMXw"
      }
    },
    {
      "cell_type": "markdown",
      "source": [
        "16.What is purpose of the else block in exception handling\n",
        "- The purpose of the else block in Python exception handling is to define code that should run only if no exceptions were raised in the try block. This helps keep your code clean and clear by separating the main operation (in try), error handling (in except), and follow-up actions that should only occur when everything goes smoothly (in else). Using else also prevents accidentally catching exceptions from code that shouldn’t be in the try block, making your program’s intent and flow easier to understand and maintain"
      ],
      "metadata": {
        "id": "SXCrKV7Gi441"
      }
    },
    {
      "cell_type": "markdown",
      "source": [
        "17.What are common logging level in Python\n",
        "The common logging levels in Python, from lowest to highest severity, are:\n",
        "- DEBUG: Detailed information, typically of interest only when diagnosing problems.\n",
        "- INFO: Confirmation that things are working as expected.\n",
        "- WARNING: An indication that something unexpected happened, or indicative of some problem in the near future (but the program is still running).\n",
        "- ERROR: Due to a more serious problem, the program has not been able to perform some function.\n",
        "- CRITICAL: A very serious error, indicating that the program itself may be unable to continue running"
      ],
      "metadata": {
        "id": "AA3ACW1AjO_k"
      }
    },
    {
      "cell_type": "markdown",
      "source": [
        "18.what is the difference between os.forK() and multiprocessing in Python?\n",
        "- os.fork():\n",
        "  - os.fork() is a low-level system call available only on Unix-like systems (not supported on Windows).\n",
        "  - It creates a new child process by duplicating the current process, including its memory and resources, so both parent and child start with the same state.\n",
        "  - It is fast and simple but requires manual management of inter-process communication and resource cleanup.\n",
        "  - Using os.fork() in multithreaded programs can be problematic and is generally discouraged\n",
        "- multiprocessing module:\n",
        "  - The multiprocessing module is a high-level Python library designed for cross-platform compatibility (works on Windows, macOS, and Linux).\n",
        "  - It provides the Process class and manages process creation, communication (via pipes and queues), and synchronization.\n",
        "  - Under the hood, on Unix systems, multiprocessing may use os.fork(), but it abstracts away the platform-specific details and handles additional overhead for safety and portability.\n",
        "  - It allows you to choose different start methods (fork, spawn, forkserver) for process creation, depending on the platform and use case"
      ],
      "metadata": {
        "id": "heVDcRWgkZVw"
      }
    },
    {
      "cell_type": "markdown",
      "source": [
        "19.What is the importance of closing file in Python\n",
        "- Closing a file in Python is important because it ensures that all data is properly saved (flushed from buffers to disk), releases system resources used by the file, and helps prevent data corruption or loss. If files are left open, you risk running into system limits on the number of open files, slowing down your program, and potentially causing issues like locked files or incomplete data writes, especially if the program crashes unexpectedly. Properly closing files is a best practice for maintaining data integrity, preventing resource leaks, and ensuring your code is reliable and efficient"
      ],
      "metadata": {
        "id": "IQNvOilBlHmi"
      }
    },
    {
      "cell_type": "markdown",
      "source": [
        "20.What are the difference between file.read() and file.readline() in Python\n",
        "- file.read():\n",
        "This method reads the entire contents of the file (or a specified number of bytes if given an argument) as a single string. It is useful when you want to process the whole file at once, but can consume a lot of memory for large files.\n",
        "\n",
        "- file.readline():\n",
        "This method reads only one line from the file at a time, returning it as a string (including the newline character at the end). It is especially useful for processing large files line by line, as it uses less memory and allows you to handle each line individually"
      ],
      "metadata": {
        "id": "euPp0Kfkla4w"
      }
    },
    {
      "cell_type": "markdown",
      "source": [
        "21.What is the logging module in Python used for\n",
        "- The logging module in Python is used to track and record events that occur while your program is running. It allows you to capture information about errors, warnings, and other significant events, which is crucial for debugging, troubleshooting, and monitoring your application's behavior.\n",
        "\n",
        "- With the logging module, you can:\n",
        "\n",
        "  - Log messages to different destinations such as files, the console, or external systems.\n",
        "\n",
        "  - Control the level of detail recorded using various logging levels (DEBUG, INFO, WARNING, ERROR, CRITICAL).\n",
        "\n",
        "  - Format log messages to include useful information like timestamps and module names.\n",
        "\n",
        "  - Integrate logs from your own code and third-party libraries for a comprehensive application log.\n",
        "\n",
        "-  the logging module provides a flexible and standardized way to keep track of what your program is doing, making it easier to maintain and debug complex applications.\n",
        "\n"
      ],
      "metadata": {
        "id": "HSYbwJv4l382"
      }
    },
    {
      "cell_type": "markdown",
      "source": [
        "22.What is the os module in Python used for in file handling\n",
        "- The os module in Python is used for interacting directly with the operating system to perform file handling and filesystem operations. It allows you to create, delete, rename, and modify files and directories, check if files exist, get file sizes, and handle file paths in a way that works across different operating systems\n",
        "- For lower-level file operations, the os module provides functions like os.open(), os.read(), os.write(), and os.close(), which work with file descriptors rather than file objects. These functions are useful for tasks that require direct control over how files are accessed and manipulated, such as setting specific file access modes or working with binary data.\n",
        "-  the os module can manage the current working directory, list files and directories, and handle file permissions, making it a comprehensive toolkit for file and directory management in Python programs"
      ],
      "metadata": {
        "id": "mn_yRSQ2mr3A"
      }
    },
    {
      "cell_type": "markdown",
      "source": [
        "23.What are challenges associated with memory management in Python\n",
        "- Some common challenges associated with memory management in Python include\n",
        "  - Memory leaks: Sometimes, unused objects are not freed, causing memory use to grow over time.\n",
        "\n",
        "  - Circular references: Objects that reference each other can be hard for Python to clean up.\n",
        "\n",
        "  - Garbage collection overhead: Automatic memory cleanup can slow down programs if not managed well.\n",
        "\n",
        "  - Large unused objects: Accidentally keeping big data in memory can quickly use up resources.\n",
        "\n",
        "  - Less manual control: Python handles memory for you, so it’s harder to fine-tune or optimize in special cases.\n",
        "\n",
        "  - Issues with external libraries: Extensions written in other languages may not follow Python’s memory rules.\n",
        "\n",
        "These challenges mean you should be careful with how you use and reference objects, especially in big or long-running programs"
      ],
      "metadata": {
        "id": "J2drpMNenBPI"
      }
    },
    {
      "cell_type": "markdown",
      "source": [
        "24.How do you raise an exception manually in Python\n",
        "- You can raise an exception manually in Python using the raise keyword. You specify the type of exception you want to raise, and you can also include a custom error message. For example:\n"
      ],
      "metadata": {
        "id": "jooQ0KpAnsmL"
      }
    },
    {
      "cell_type": "code",
      "execution_count": null,
      "metadata": {
        "colab": {
          "base_uri": "https://localhost:8080/",
          "height": 158
        },
        "id": "lpxIrXvYW07e",
        "outputId": "564499a6-dd19-4b86-b65b-41afc595a001"
      },
      "outputs": [
        {
          "output_type": "error",
          "ename": "NameError",
          "evalue": "name 'python' is not defined",
          "traceback": [
            "\u001b[0;31m---------------------------------------------------------------------------\u001b[0m",
            "\u001b[0;31mNameError\u001b[0m                                 Traceback (most recent call last)",
            "\u001b[0;32m<ipython-input-1-833b7a5f6d36>\u001b[0m in \u001b[0;36m<cell line: 0>\u001b[0;34m()\u001b[0m\n\u001b[0;32m----> 1\u001b[0;31m \u001b[0mpython\u001b[0m\u001b[0;34m\u001b[0m\u001b[0;34m\u001b[0m\u001b[0m\n\u001b[0m\u001b[1;32m      2\u001b[0m \u001b[0;32mraise\u001b[0m \u001b[0mValueError\u001b[0m\u001b[0;34m(\u001b[0m\u001b[0;34m\"This is a custom error message\"\u001b[0m\u001b[0;34m)\u001b[0m\u001b[0;34m\u001b[0m\u001b[0;34m\u001b[0m\u001b[0m\n",
            "\u001b[0;31mNameError\u001b[0m: name 'python' is not defined"
          ]
        }
      ],
      "source": [
        "python\n",
        "raise ValueError(\"This is a custom error message\")\n",
        "#This will stop the program and display the error message unless the exception is caught and handled elsewhere in your code"
      ]
    },
    {
      "cell_type": "markdown",
      "source": [
        "25.Why is it important to use multithreading in certain application\n",
        "- Multithreading is important in certain applications because it allows multiple tasks to run concurrently within the same program, improving performance and responsiveness—especially for tasks that spend time waiting for input/output operations, such as reading files, handling network requests, or interacting with users.\n",
        "\n",
        "- By using multithreading:\n",
        "\n",
        "  - Applications can remain responsive (for example, keeping a user interface active while background tasks run).\n",
        "\n",
        "  - Multiple user requests or real-time data can be handled efficiently, reducing latency and improving user experience.\n",
        "\n",
        "  - System resources are used more effectively, as threads share memory and are lighter than creating separate processes.\n",
        "\n",
        "- multithreading is best suited for I/O-bound and interactive applications where tasks can be performed independently and need to share data or resources efficiently"
      ],
      "metadata": {
        "id": "WdjP-nmOoSdM"
      }
    },
    {
      "cell_type": "markdown",
      "source": [
        "# Practical Questions"
      ],
      "metadata": {
        "id": "bRUp0MCnow2A"
      }
    },
    {
      "cell_type": "code",
      "source": [
        "# 1.How can you open a file for writing in python and write a string to it\n",
        "file = open(\"example.txt\", \"w\")\n",
        "file.write(\"welcome to Data Science\")\n",
        "file.close()"
      ],
      "metadata": {
        "id": "g_Lul4d1skvW"
      },
      "execution_count": null,
      "outputs": []
    },
    {
      "cell_type": "code",
      "source": [
        "#2.Write a Python program to read the content of a file and print each line.\n",
        "file = open(\"example.txt\", \"r\")\n",
        "for line in file:\n",
        "  print(line)\n",
        "file.close()"
      ],
      "metadata": {
        "colab": {
          "base_uri": "https://localhost:8080/"
        },
        "id": "bBfxVgwntB7d",
        "outputId": "fc55289a-ae46-442f-8c16-aafb23f540a5"
      },
      "execution_count": null,
      "outputs": [
        {
          "output_type": "stream",
          "name": "stdout",
          "text": [
            "welcome to Data Science\n"
          ]
        }
      ]
    },
    {
      "cell_type": "code",
      "source": [
        "#3.How would you handle a case where the file doesn't exist while trying to open it for reading\n",
        "try:\n",
        "    file = open(\"myfile.txt\", \"r\")\n",
        "except FileNotFoundError:\n",
        "    print(\"The file was not found.\")\n"
      ],
      "metadata": {
        "colab": {
          "base_uri": "https://localhost:8080/"
        },
        "id": "ygP84tHYtRvx",
        "outputId": "998c6fcb-cb1a-44a4-dfa7-e278187532a2"
      },
      "execution_count": null,
      "outputs": [
        {
          "output_type": "stream",
          "name": "stdout",
          "text": [
            "The file was not found.\n"
          ]
        }
      ]
    },
    {
      "cell_type": "code",
      "source": [
        "#4.Write a Python script that reads form one file and writes its content to another line\n",
        "try:\n",
        "    with open(\"file1.txt\", \"r\") as file1, open(\"file2.txt\", \"w\") as file2:\n",
        "        for line in file1:\n",
        "            file2.write(line)\n",
        "except FileNotFoundError:\n",
        "    print(\"file1.txt was not found.\")\n"
      ],
      "metadata": {
        "colab": {
          "base_uri": "https://localhost:8080/"
        },
        "id": "VURrh6o0uWvY",
        "outputId": "c82c0350-2118-4f04-ff98-c57efc5290f0"
      },
      "execution_count": null,
      "outputs": [
        {
          "output_type": "stream",
          "name": "stdout",
          "text": [
            "file1.txt was not found.\n"
          ]
        }
      ]
    },
    {
      "cell_type": "code",
      "source": [
        "#5.How would you catch and handle division by zero error in Python\n",
        "try:\n",
        "    result = 10 / 0\n",
        "except ZeroDivisionError:\n",
        "    print(\"Error: Cannot divide by zero.\")\n",
        "\n"
      ],
      "metadata": {
        "id": "P9Kw0Cv_u44n",
        "colab": {
          "base_uri": "https://localhost:8080/"
        },
        "outputId": "863236c6-5965-4762-85a5-c33e0d49ed7d"
      },
      "execution_count": null,
      "outputs": [
        {
          "output_type": "stream",
          "name": "stdout",
          "text": [
            "Error: Cannot divide by zero.\n"
          ]
        }
      ]
    },
    {
      "cell_type": "code",
      "source": [
        "#6.Write a Python program that logs an error message to a log gile when a division by zero exception occurs\n",
        "import logging\n",
        "\n",
        "logging.basicConfig(filename='error.log', level=logging.ERROR)\n",
        "\n",
        "try:\n",
        "    result = 10 / 0\n",
        "except ZeroDivisionError:\n",
        "    logging.error(\"Error: Cannot divide by zero.\")"
      ],
      "metadata": {
        "colab": {
          "base_uri": "https://localhost:8080/"
        },
        "id": "au95nTz0wnig",
        "outputId": "473ca8f1-8c86-41fd-8ba4-55fd79e9c24b"
      },
      "execution_count": null,
      "outputs": [
        {
          "output_type": "stream",
          "name": "stderr",
          "text": [
            "ERROR:root:Error: Cannot divide by zero.\n"
          ]
        }
      ]
    },
    {
      "cell_type": "code",
      "source": [
        "#7.How do you log information at different level(INFO , ERROR ,WARNING) in Python using the logging module\n",
        "import logging\n",
        "\n",
        "logging.basicConfig(filename='log.txt', level=logging.INFO)\n",
        "logging.info(\"This is an info message.\")\n",
        "logging.warning(\"This is a warning message.\")\n",
        "logging.error(\"This is an error message.\")\n"
      ],
      "metadata": {
        "colab": {
          "base_uri": "https://localhost:8080/"
        },
        "id": "f5BbJ2Qgw4F9",
        "outputId": "d1068205-ad80-4cdd-9692-e16ffffa10d2"
      },
      "execution_count": null,
      "outputs": [
        {
          "output_type": "stream",
          "name": "stderr",
          "text": [
            "WARNING:root:This is a warning message.\n",
            "ERROR:root:This is an error message.\n"
          ]
        }
      ]
    },
    {
      "cell_type": "code",
      "source": [
        "#8.Write a program to handle a file opening error using exception handling.\n",
        "try:\n",
        "    with open(\"my_file.txt\", \"r\") as file:\n",
        "        content = file.read()\n",
        "        print(content)\n",
        "except FileNotFoundError:\n",
        "    print(\"The file 'my_file.txt' was not found.\")"
      ],
      "metadata": {
        "colab": {
          "base_uri": "https://localhost:8080/"
        },
        "id": "sWLZ1I6rymMH",
        "outputId": "ea5e2a36-806c-493f-da97-ed48e0f0da91"
      },
      "execution_count": null,
      "outputs": [
        {
          "output_type": "stream",
          "name": "stdout",
          "text": [
            "The file 'my_file.txt' was not found.\n"
          ]
        }
      ]
    },
    {
      "cell_type": "code",
      "source": [
        "#9.How can you read a file line by line and store its content in a list in Python\n",
        "with open (\"example.txt\", \"r\") as file:\n",
        "    lines = file.readlines()\n",
        "print(lines)"
      ],
      "metadata": {
        "colab": {
          "base_uri": "https://localhost:8080/"
        },
        "id": "cajF1O5uzB3D",
        "outputId": "9a56e86e-464a-4c8b-eada-30274bdbeff1"
      },
      "execution_count": null,
      "outputs": [
        {
          "output_type": "stream",
          "name": "stdout",
          "text": [
            "['welcome to Data Science']\n"
          ]
        }
      ]
    },
    {
      "cell_type": "code",
      "source": [
        "#10.How can you append data to an existing file in Python\n",
        "# Open the file in append mode ('a')\n",
        "# Open the file in append mode ('a')\n",
        "with open(\"example.txt\", \"a\") as file:\n",
        "    file.write(\"This is some text that will be appended to the file.\\n\")\n",
        "    file.write(\"This is another line added at the end.\\n\")\n",
        "\n",
        "print(\"Data has been appended to example.txt\")\n",
        "\n"
      ],
      "metadata": {
        "colab": {
          "base_uri": "https://localhost:8080/"
        },
        "id": "HdXv7Afsz_IV",
        "outputId": "3636823a-2924-4326-d5d1-33b05a939285"
      },
      "execution_count": null,
      "outputs": [
        {
          "output_type": "stream",
          "name": "stdout",
          "text": [
            "Data has been appended to example.txt\n"
          ]
        }
      ]
    },
    {
      "cell_type": "code",
      "source": [
        "#11.Write a Python program that uses a try-except block to handle an error when attempting to access a dictionary key that doesn't exist\n",
        "my_dict = {\"name\": \"Chetan\", \"age\": 25}\n",
        "\n",
        "try:\n",
        "    value = my_dict[\"address\"]  # This key does not exist\n",
        "    print(\"Address:\", value)\n",
        "except KeyError:\n",
        "    print(\"Error: The key 'address' does not exist in the dictionary.\")\n"
      ],
      "metadata": {
        "colab": {
          "base_uri": "https://localhost:8080/"
        },
        "id": "ZsDy_IMC0lfF",
        "outputId": "535924ef-4be3-465e-d1a6-dc6157afb4be"
      },
      "execution_count": null,
      "outputs": [
        {
          "output_type": "stream",
          "name": "stdout",
          "text": [
            "Error: The key 'address' does not exist in the dictionary.\n"
          ]
        }
      ]
    },
    {
      "cell_type": "code",
      "source": [
        "#12.Write a program that demonstrates using multiple except blocks to handle different types of exceptions\n",
        "try:\n",
        "    x = int(input(\"Enter a number: \"))\n",
        "    y = 10 / x\n",
        "    print(\"Result:\", y)\n",
        "except ZeroDivisionError:\n",
        "    print(\"Error: You cannot divide by zero!\")\n",
        "except ValueError:\n",
        "    print(\"Error: Please enter a valid integer!\")\n",
        "except Exception as e:\n",
        "    print(f\"An unexpected error occurred: {e}\")\n"
      ],
      "metadata": {
        "id": "8b7jfh7D1uch",
        "colab": {
          "base_uri": "https://localhost:8080/"
        },
        "outputId": "99b15e84-59a7-499d-a124-6678162dd95f"
      },
      "execution_count": 32,
      "outputs": [
        {
          "output_type": "stream",
          "name": "stdout",
          "text": [
            "Enter a number: 0\n",
            "Error: You cannot divide by zero!\n"
          ]
        }
      ]
    },
    {
      "cell_type": "code",
      "source": [
        "#13.How would you check if a file exists before attempting to read it in Python\n",
        "import os\n",
        "\n",
        "file_path = 'my_data/my_file.txt'\n",
        "if os.path.exists(file_path):\n",
        "    print(\"The file exists.\")\n",
        "else:\n",
        "    print(\"The file does not exist.\")\n"
      ],
      "metadata": {
        "colab": {
          "base_uri": "https://localhost:8080/"
        },
        "id": "zBVH15T4_5Pd",
        "outputId": "57252d34-df53-4c4f-81e0-357c6e173c7d"
      },
      "execution_count": 33,
      "outputs": [
        {
          "output_type": "stream",
          "name": "stdout",
          "text": [
            "The file does not exist.\n"
          ]
        }
      ]
    },
    {
      "cell_type": "code",
      "source": [
        "#14.Write a program that uses the logging module to log both informational and error messages.\n",
        "import logging\n",
        "\n",
        "logging.basicConfig(filename='error.log', level=logging.ERROR)\n",
        "\n",
        "try:\n",
        "    result = 10 / 0\n",
        "except ZeroDivisionError:\n",
        "    logging.error(\"Error: Cannot divide by zero.\")\n"
      ],
      "metadata": {
        "colab": {
          "base_uri": "https://localhost:8080/"
        },
        "id": "yySKyjcDAwDx",
        "outputId": "d13a741a-6243-4ee7-865f-40271a43e54a"
      },
      "execution_count": 34,
      "outputs": [
        {
          "output_type": "stream",
          "name": "stderr",
          "text": [
            "ERROR:root:Error: Cannot divide by zero.\n"
          ]
        }
      ]
    },
    {
      "cell_type": "code",
      "source": [
        "#15.Write a Python program that prints the content of a file and handles the case when the file is empty\n",
        "file_path = 'example.txt'\n",
        "\n",
        "try:\n",
        "    with open(file_path, 'r') as file:\n",
        "        content = file.read()\n",
        "        if content:\n",
        "            print(content)\n",
        "        else:\n",
        "            print(\"The file is empty.\")\n",
        "except FileNotFoundError:\n",
        "    print(\"File not found.\")\n"
      ],
      "metadata": {
        "colab": {
          "base_uri": "https://localhost:8080/"
        },
        "id": "7KKKMTZOCEhU",
        "outputId": "3f8ef78a-7bbf-446c-ef45-8624b7b75c22"
      },
      "execution_count": 37,
      "outputs": [
        {
          "output_type": "stream",
          "name": "stdout",
          "text": [
            "welcome to Data ScienceThis is new data to append.\n",
            "This is new data to append.\n",
            "This is some text that will be appended to the file.\n",
            "This is another line added at the end.\n",
            "\n"
          ]
        }
      ]
    },
    {
      "cell_type": "code",
      "source": [
        "#16.Demonstrate how to use memory profilling to check the memory usage of a small program\n",
        "!pip install -q memory_profiler\n",
        "%load_ext memory_profiler\n",
        "\n",
        "def my_function():\n",
        "    a = [1] * (10**6)\n",
        "    b = [2] * (2 * 10**6)\n",
        "    del b\n",
        "    return a\n",
        "\n",
        "%memit my_function()"
      ],
      "metadata": {
        "colab": {
          "base_uri": "https://localhost:8080/"
        },
        "id": "oWdV1-E_KI9P",
        "outputId": "a51d13f9-9602-45c9-e89b-025c4d4bdf49"
      },
      "execution_count": 66,
      "outputs": [
        {
          "output_type": "stream",
          "name": "stdout",
          "text": [
            "peak memory: 119.64 MiB, increment: 0.52 MiB\n"
          ]
        }
      ]
    },
    {
      "cell_type": "code",
      "source": [
        "#17.Write a Python program to create and write a list of numbers to a file, one number per line\n",
        "with open(\"numbers.txt\", \"w\") as file:\n",
        "    numbers = [1, 2, 3, 4, 5]\n",
        "    for num in numbers:\n",
        "        file.write(str(num) + \"\\n\")\n",
        "with open(\"numbers.txt\", \"r\") as file:\n",
        "    for line in file:\n",
        "        print(line.strip())\n"
      ],
      "metadata": {
        "colab": {
          "base_uri": "https://localhost:8080/"
        },
        "id": "zjp24dX_DQhe",
        "outputId": "540f31c7-bb63-4452-b39f-cbe042eb9979"
      },
      "execution_count": 46,
      "outputs": [
        {
          "output_type": "stream",
          "name": "stdout",
          "text": [
            "1\n",
            "2\n",
            "3\n",
            "4\n",
            "5\n"
          ]
        }
      ]
    },
    {
      "cell_type": "code",
      "source": [
        "#18.How would you implement a basic logging setup that lags to a file with rotation after 1MB\n",
        "import logging\n",
        "from logging.handlers import RotatingFileHandler\n",
        "\n",
        "handler = RotatingFileHandler(\"app.log\", maxBytes=1_048_576, backupCount=1)\n",
        "logging.basicConfig(level=logging.INFO, handlers=[handler])\n",
        "\n",
        "logging.info(\"Hello, log file with rotation!\")\n",
        "\n",
        "\n"
      ],
      "metadata": {
        "id": "wznYtL3SECMd"
      },
      "execution_count": 54,
      "outputs": []
    },
    {
      "cell_type": "code",
      "source": [
        "#19.Write a program that handles both indexerror and keyerror using try-except block\n",
        "try:\n",
        "    a = [1, 2, 3]\n",
        "    print(a[5])\n",
        "    d = {'x': 10}\n",
        "    print(d['y'])\n",
        "except IndexError:\n",
        "    print(\"Index error!\")\n",
        "except KeyError:\n",
        "    print(\"Key error!\")\n"
      ],
      "metadata": {
        "colab": {
          "base_uri": "https://localhost:8080/"
        },
        "id": "2Ef0sxbZFg2N",
        "outputId": "c39e9aa6-5956-433f-e31b-be02828f5d44"
      },
      "execution_count": 55,
      "outputs": [
        {
          "output_type": "stream",
          "name": "stdout",
          "text": [
            "Index error!\n"
          ]
        }
      ]
    },
    {
      "cell_type": "code",
      "source": [
        "#20.How would you open a file and read its content using a context manager in Python\n",
        "file = open(\"example.txt\", \"w\")\n",
        "file.write(\"welcome to Data Science\")\n",
        "file.close()\n",
        "with open(\"example.txt\", \"r\") as file:\n",
        "    content = file.read()\n",
        "    print(content)\n"
      ],
      "metadata": {
        "colab": {
          "base_uri": "https://localhost:8080/"
        },
        "id": "hViJsLJ0GgOs",
        "outputId": "96c9745c-75fa-4ffb-e45f-2758c3638827"
      },
      "execution_count": 57,
      "outputs": [
        {
          "output_type": "stream",
          "name": "stdout",
          "text": [
            "welcome to Data Science\n"
          ]
        }
      ]
    },
    {
      "cell_type": "code",
      "source": [
        "#21. Write a Python program that reads a file and prints the number of occurrences of a specific word\n",
        "\n",
        "def count_word_occurrences(filepath, word):\n",
        "\n",
        "  count = 0\n",
        "  try:\n",
        "    with open(filepath, 'r') as file:\n",
        "      for line in file:\n",
        "        # Convert line to lowercase for case-insensitive comparison\n",
        "        count += line.lower().count(word.lower())\n",
        "  except FileNotFoundError:\n",
        "    print(f\"Error: The file '{filepath}' was not found.\")\n",
        "    return -1 # Indicate an error\n",
        "\n",
        "  return count\n",
        "\n",
        "# Specify the file path and the word to count\n",
        "file_path = 'example.txt'  # Assuming the file was created in a previous step\n",
        "word_to_count = 'science'\n",
        "\n",
        "# Count the occurrences\n",
        "occurrences = count_word_occurrences(file_path, word_to_count)\n",
        "\n",
        "# Print the result if the file was found\n",
        "if occurrences != -1:\n",
        "  print(f\"The word '{word_to_count}' appears {occurrences} times in '{file_path}'.\")\n",
        "\n"
      ],
      "metadata": {
        "colab": {
          "base_uri": "https://localhost:8080/"
        },
        "id": "OoLkhYo3HRDD",
        "outputId": "67936834-95c4-4004-abdc-c19cef9d5795"
      },
      "execution_count": 59,
      "outputs": [
        {
          "output_type": "stream",
          "name": "stdout",
          "text": [
            "The word 'science' appears 1 times in 'example.txt'.\n"
          ]
        }
      ]
    },
    {
      "cell_type": "code",
      "source": [
        "#22.How can you check if a file is empty before attempting to read its contents\n",
        "import os\n",
        "\n",
        "file_path = \"example.txt\"\n",
        "if os.path.getsize(file_path) == 0:\n",
        "    print(\"The file is empty.\")\n",
        "else:\n",
        "    print(\"The file is not empty.\")\n"
      ],
      "metadata": {
        "colab": {
          "base_uri": "https://localhost:8080/"
        },
        "id": "JYtYo2SSIC9V",
        "outputId": "344c6248-b005-451f-f565-2407268c7074"
      },
      "execution_count": 61,
      "outputs": [
        {
          "output_type": "stream",
          "name": "stdout",
          "text": [
            "The file is not empty.\n"
          ]
        }
      ]
    },
    {
      "cell_type": "code",
      "source": [
        "#23.Write a Python program that writes to a log file when an error occurs during file handling\n",
        "import logging\n",
        "logging.basicConfig(filename='error.log', level=logging.ERROR)\n",
        "try:\n",
        "    with open(\"example.txt\", \"r\") as f:\n",
        "        print(f.read())\n",
        "except Exception as e:\n",
        "    logging.error(f\"Error: {e}\")\n"
      ],
      "metadata": {
        "colab": {
          "base_uri": "https://localhost:8080/"
        },
        "id": "TwQZ30RvIxV0",
        "outputId": "d50646a4-35b3-4a53-f91a-ac4b65dac10e"
      },
      "execution_count": 65,
      "outputs": [
        {
          "output_type": "stream",
          "name": "stdout",
          "text": [
            "welcome to Data Science\n"
          ]
        }
      ]
    },
    {
      "cell_type": "code",
      "source": [],
      "metadata": {
        "id": "T9pI9qZLJSpF"
      },
      "execution_count": null,
      "outputs": []
    }
  ]
}